{
 "cells": [
  {
   "cell_type": "code",
   "execution_count": 1,
   "metadata": {},
   "outputs": [],
   "source": [
    "## importing libraries\n",
    "import pandas as pd\n",
    "import numpy as np\n",
    "from matplotlib import pyplot as plt\n",
    "import seaborn as sns; sns.set(color_codes=True)\n",
    "%matplotlib inline"
   ]
  },
  {
   "cell_type": "code",
   "execution_count": 2,
   "metadata": {},
   "outputs": [
    {
     "data": {
      "text/html": [
       "<div>\n",
       "<style scoped>\n",
       "    .dataframe tbody tr th:only-of-type {\n",
       "        vertical-align: middle;\n",
       "    }\n",
       "\n",
       "    .dataframe tbody tr th {\n",
       "        vertical-align: top;\n",
       "    }\n",
       "\n",
       "    .dataframe thead th {\n",
       "        text-align: right;\n",
       "    }\n",
       "</style>\n",
       "<table border=\"1\" class=\"dataframe\">\n",
       "  <thead>\n",
       "    <tr style=\"text-align: right;\">\n",
       "      <th></th>\n",
       "      <th>State/UTs</th>\n",
       "      <th>Total Cases</th>\n",
       "      <th>Active</th>\n",
       "      <th>Discharged</th>\n",
       "      <th>Deaths</th>\n",
       "      <th>Active Ratio (%)</th>\n",
       "      <th>Discharge Ratio (%)</th>\n",
       "      <th>Death Ratio (%)</th>\n",
       "    </tr>\n",
       "  </thead>\n",
       "  <tbody>\n",
       "    <tr>\n",
       "      <th>0</th>\n",
       "      <td>Andaman and Nicobar</td>\n",
       "      <td>7539</td>\n",
       "      <td>6</td>\n",
       "      <td>7404</td>\n",
       "      <td>129</td>\n",
       "      <td>0.08</td>\n",
       "      <td>98.21</td>\n",
       "      <td>1.71</td>\n",
       "    </tr>\n",
       "    <tr>\n",
       "      <th>1</th>\n",
       "      <td>Andhra Pradesh</td>\n",
       "      <td>1970008</td>\n",
       "      <td>20582</td>\n",
       "      <td>1936016</td>\n",
       "      <td>13410</td>\n",
       "      <td>1.04</td>\n",
       "      <td>98.27</td>\n",
       "      <td>0.68</td>\n",
       "    </tr>\n",
       "    <tr>\n",
       "      <th>2</th>\n",
       "      <td>Arunachal Pradesh</td>\n",
       "      <td>48565</td>\n",
       "      <td>3508</td>\n",
       "      <td>44823</td>\n",
       "      <td>234</td>\n",
       "      <td>7.22</td>\n",
       "      <td>92.29</td>\n",
       "      <td>0.48</td>\n",
       "    </tr>\n",
       "    <tr>\n",
       "      <th>3</th>\n",
       "      <td>Assam</td>\n",
       "      <td>568257</td>\n",
       "      <td>12429</td>\n",
       "      <td>550534</td>\n",
       "      <td>5294</td>\n",
       "      <td>2.19</td>\n",
       "      <td>96.88</td>\n",
       "      <td>0.93</td>\n",
       "    </tr>\n",
       "    <tr>\n",
       "      <th>4</th>\n",
       "      <td>Bihar</td>\n",
       "      <td>724917</td>\n",
       "      <td>401</td>\n",
       "      <td>714872</td>\n",
       "      <td>9644</td>\n",
       "      <td>0.06</td>\n",
       "      <td>98.61</td>\n",
       "      <td>1.33</td>\n",
       "    </tr>\n",
       "  </tbody>\n",
       "</table>\n",
       "</div>"
      ],
      "text/plain": [
       "             State/UTs  Total Cases  Active  Discharged  Deaths  \\\n",
       "0  Andaman and Nicobar         7539       6        7404     129   \n",
       "1       Andhra Pradesh      1970008   20582     1936016   13410   \n",
       "2    Arunachal Pradesh        48565    3508       44823     234   \n",
       "3                Assam       568257   12429      550534    5294   \n",
       "4                Bihar       724917     401      714872    9644   \n",
       "\n",
       "   Active Ratio (%)  Discharge Ratio (%)  Death Ratio (%)  \n",
       "0              0.08                98.21             1.71  \n",
       "1              1.04                98.27             0.68  \n",
       "2              7.22                92.29             0.48  \n",
       "3              2.19                96.88             0.93  \n",
       "4              0.06                98.61             1.33  "
      ]
     },
     "execution_count": 2,
     "metadata": {},
     "output_type": "execute_result"
    }
   ],
   "source": [
    "## loading dataset\n",
    "df = pd.read_csv(\"Latest Covid-19 India Status.csv\")\n",
    "df.head()"
   ]
  },
  {
   "cell_type": "code",
   "execution_count": 3,
   "metadata": {},
   "outputs": [
    {
     "name": "stdout",
     "output_type": "stream",
     "text": [
      "<class 'pandas.core.frame.DataFrame'>\n",
      "RangeIndex: 36 entries, 0 to 35\n",
      "Data columns (total 8 columns):\n",
      " #   Column               Non-Null Count  Dtype  \n",
      "---  ------               --------------  -----  \n",
      " 0   State/UTs            36 non-null     object \n",
      " 1   Total Cases          36 non-null     int64  \n",
      " 2   Active               36 non-null     int64  \n",
      " 3   Discharged           36 non-null     int64  \n",
      " 4   Deaths               36 non-null     int64  \n",
      " 5   Active Ratio (%)     36 non-null     float64\n",
      " 6   Discharge Ratio (%)  36 non-null     float64\n",
      " 7   Death Ratio (%)      36 non-null     float64\n",
      "dtypes: float64(3), int64(4), object(1)\n",
      "memory usage: 2.4+ KB\n"
     ]
    }
   ],
   "source": [
    "## Checking any null value\n",
    "df.info()"
   ]
  },
  {
   "cell_type": "code",
   "execution_count": 4,
   "metadata": {},
   "outputs": [
    {
     "data": {
      "text/html": [
       "<div>\n",
       "<style scoped>\n",
       "    .dataframe tbody tr th:only-of-type {\n",
       "        vertical-align: middle;\n",
       "    }\n",
       "\n",
       "    .dataframe tbody tr th {\n",
       "        vertical-align: top;\n",
       "    }\n",
       "\n",
       "    .dataframe thead th {\n",
       "        text-align: right;\n",
       "    }\n",
       "</style>\n",
       "<table border=\"1\" class=\"dataframe\">\n",
       "  <thead>\n",
       "    <tr style=\"text-align: right;\">\n",
       "      <th></th>\n",
       "      <th>Total Cases</th>\n",
       "      <th>Active</th>\n",
       "      <th>Discharged</th>\n",
       "      <th>Deaths</th>\n",
       "      <th>Active Ratio (%)</th>\n",
       "      <th>Discharge Ratio (%)</th>\n",
       "      <th>Death Ratio (%)</th>\n",
       "    </tr>\n",
       "  </thead>\n",
       "  <tbody>\n",
       "    <tr>\n",
       "      <th>count</th>\n",
       "      <td>3.600000e+01</td>\n",
       "      <td>36.000000</td>\n",
       "      <td>3.600000e+01</td>\n",
       "      <td>36.000000</td>\n",
       "      <td>36.000000</td>\n",
       "      <td>36.000000</td>\n",
       "      <td>36.000000</td>\n",
       "    </tr>\n",
       "    <tr>\n",
       "      <th>mean</th>\n",
       "      <td>8.812919e+05</td>\n",
       "      <td>11248.833333</td>\n",
       "      <td>8.582321e+05</td>\n",
       "      <td>11810.972222</td>\n",
       "      <td>2.679722</td>\n",
       "      <td>96.059167</td>\n",
       "      <td>1.261667</td>\n",
       "    </tr>\n",
       "    <tr>\n",
       "      <th>std</th>\n",
       "      <td>1.273276e+06</td>\n",
       "      <td>29957.488684</td>\n",
       "      <td>1.231874e+06</td>\n",
       "      <td>22842.176185</td>\n",
       "      <td>5.706423</td>\n",
       "      <td>5.592844</td>\n",
       "      <td>0.567604</td>\n",
       "    </tr>\n",
       "    <tr>\n",
       "      <th>min</th>\n",
       "      <td>7.539000e+03</td>\n",
       "      <td>6.000000</td>\n",
       "      <td>7.404000e+03</td>\n",
       "      <td>4.000000</td>\n",
       "      <td>0.020000</td>\n",
       "      <td>68.910000</td>\n",
       "      <td>0.040000</td>\n",
       "    </tr>\n",
       "    <tr>\n",
       "      <th>25%</th>\n",
       "      <td>6.494425e+04</td>\n",
       "      <td>363.500000</td>\n",
       "      <td>6.058375e+04</td>\n",
       "      <td>797.000000</td>\n",
       "      <td>0.080000</td>\n",
       "      <td>96.822500</td>\n",
       "      <td>0.937500</td>\n",
       "    </tr>\n",
       "    <tr>\n",
       "      <th>50%</th>\n",
       "      <td>4.577400e+05</td>\n",
       "      <td>1277.000000</td>\n",
       "      <td>4.461945e+05</td>\n",
       "      <td>5211.500000</td>\n",
       "      <td>0.670000</td>\n",
       "      <td>98.035000</td>\n",
       "      <td>1.320000</td>\n",
       "    </tr>\n",
       "    <tr>\n",
       "      <th>75%</th>\n",
       "      <td>9.854172e+05</td>\n",
       "      <td>10061.250000</td>\n",
       "      <td>9.670425e+05</td>\n",
       "      <td>13439.500000</td>\n",
       "      <td>1.575000</td>\n",
       "      <td>98.615000</td>\n",
       "      <td>1.605000</td>\n",
       "    </tr>\n",
       "    <tr>\n",
       "      <th>max</th>\n",
       "      <td>6.315063e+06</td>\n",
       "      <td>165834.000000</td>\n",
       "      <td>6.103325e+06</td>\n",
       "      <td>133038.000000</td>\n",
       "      <td>30.700000</td>\n",
       "      <td>99.820000</td>\n",
       "      <td>2.720000</td>\n",
       "    </tr>\n",
       "  </tbody>\n",
       "</table>\n",
       "</div>"
      ],
      "text/plain": [
       "        Total Cases         Active    Discharged         Deaths  \\\n",
       "count  3.600000e+01      36.000000  3.600000e+01      36.000000   \n",
       "mean   8.812919e+05   11248.833333  8.582321e+05   11810.972222   \n",
       "std    1.273276e+06   29957.488684  1.231874e+06   22842.176185   \n",
       "min    7.539000e+03       6.000000  7.404000e+03       4.000000   \n",
       "25%    6.494425e+04     363.500000  6.058375e+04     797.000000   \n",
       "50%    4.577400e+05    1277.000000  4.461945e+05    5211.500000   \n",
       "75%    9.854172e+05   10061.250000  9.670425e+05   13439.500000   \n",
       "max    6.315063e+06  165834.000000  6.103325e+06  133038.000000   \n",
       "\n",
       "       Active Ratio (%)  Discharge Ratio (%)  Death Ratio (%)  \n",
       "count         36.000000            36.000000        36.000000  \n",
       "mean           2.679722            96.059167         1.261667  \n",
       "std            5.706423             5.592844         0.567604  \n",
       "min            0.020000            68.910000         0.040000  \n",
       "25%            0.080000            96.822500         0.937500  \n",
       "50%            0.670000            98.035000         1.320000  \n",
       "75%            1.575000            98.615000         1.605000  \n",
       "max           30.700000            99.820000         2.720000  "
      ]
     },
     "execution_count": 4,
     "metadata": {},
     "output_type": "execute_result"
    }
   ],
   "source": [
    "df.describe()"
   ]
  },
  {
   "cell_type": "code",
   "execution_count": 5,
   "metadata": {},
   "outputs": [
    {
     "data": {
      "text/plain": [
       "array(['Andaman and Nicobar', 'Andhra Pradesh', 'Arunachal Pradesh',\n",
       "       'Assam', 'Bihar', 'Chandigarh', 'Chhattisgarh',\n",
       "       'Dadra and Nagar Haveli and Daman and Diu', 'Delhi', 'Goa',\n",
       "       'Gujarat', 'Haryana', 'Himachal Pradesh', 'Jammu and Kashmir',\n",
       "       'Jharkhand', 'Karnataka', 'Kerala', 'Ladakh', 'Lakshadweep',\n",
       "       'Madhya Pradesh', 'Maharashtra', 'Manipur', 'Meghalaya', 'Mizoram',\n",
       "       'Nagaland', 'Odisha', 'Puducherry', 'Punjab', 'Rajasthan',\n",
       "       'Sikkim', 'Tamil Nadu', 'Telengana', 'Tripura', 'Uttar Pradesh',\n",
       "       'Uttarakhand', 'West Bengal'], dtype=object)"
      ]
     },
     "execution_count": 5,
     "metadata": {},
     "output_type": "execute_result"
    }
   ],
   "source": [
    "np.unique(df[\"State/UTs\"])"
   ]
  },
  {
   "cell_type": "code",
   "execution_count": null,
   "metadata": {},
   "outputs": [],
   "source": [
    "## so there is no repeatable state name"
   ]
  },
  {
   "cell_type": "markdown",
   "metadata": {},
   "source": [
    "#### Q1. Find which state has highest mean active ratio since reported"
   ]
  },
  {
   "cell_type": "code",
   "execution_count": 6,
   "metadata": {},
   "outputs": [],
   "source": [
    "# Groupby state names to find their means for confirmed cases\n",
    "\n",
    "df_group = df.groupby([\"State/UTs\"])['Active Ratio (%)'].mean()"
   ]
  },
  {
   "cell_type": "code",
   "execution_count": 8,
   "metadata": {},
   "outputs": [
    {
     "data": {
      "text/plain": [
       "State/UTs\n",
       "Mizoram              30.70\n",
       "Sikkim               12.36\n",
       "Manipur               9.83\n",
       "Meghalaya             8.86\n",
       "Arunachal Pradesh     7.22\n",
       "Kerala                4.84\n",
       "Nagaland              4.64\n",
       "Tripura               3.93\n",
       "Assam                 2.19\n",
       "Telengana             1.37\n",
       "Odisha                1.36\n",
       "Maharashtra           1.25\n",
       "Andhra Pradesh        1.04\n",
       "Karnataka             0.83\n",
       "Tamil Nadu            0.80\n",
       "Name: Active Ratio (%), dtype: float64"
      ]
     },
     "execution_count": 8,
     "metadata": {},
     "output_type": "execute_result"
    }
   ],
   "source": [
    "df_group = df_group.sort_values(ascending = False)[0:15]\n",
    "df_group"
   ]
  },
  {
   "cell_type": "code",
   "execution_count": 9,
   "metadata": {},
   "outputs": [
    {
     "data": {
      "text/plain": [
       "Index(['Mizoram', 'Sikkim', 'Manipur', 'Meghalaya', 'Arunachal Pradesh',\n",
       "       'Kerala', 'Nagaland', 'Tripura', 'Assam', 'Telengana', 'Odisha',\n",
       "       'Maharashtra', 'Andhra Pradesh', 'Karnataka', 'Tamil Nadu'],\n",
       "      dtype='object', name='State/UTs')"
      ]
     },
     "execution_count": 9,
     "metadata": {},
     "output_type": "execute_result"
    }
   ],
   "source": [
    "df_group.index"
   ]
  },
  {
   "cell_type": "code",
   "execution_count": 11,
   "metadata": {
    "scrolled": true
   },
   "outputs": [
    {
     "data": {
      "text/plain": [
       "Text(0, 0.5, 'Mean of active ratio')"
      ]
     },
     "execution_count": 11,
     "metadata": {},
     "output_type": "execute_result"
    },
    {
     "data": {
      "image/png": "[encoded data removed]",
      "text/plain": [
       "<Figure size 1440x720 with 1 Axes>"
      ]
     },
     "metadata": {
      "needs_background": "light"
     },
     "output_type": "display_data"
    }
   ],
   "source": [
    "ax = sns.lineplot(x=df_group.index, y= df_group.values)\n",
    "plt.scatter(x=df_group.index, y= df_group.values, c = 'r')\n",
    "ax.figure.set_figwidth(20)\n",
    "ax.figure.set_figheight(10)\n",
    "ax.set_xlabel(\"'State/UTs\")\n",
    "ax.set_ylabel(\"Mean of active ratio\")"
   ]
  },
  {
   "cell_type": "code",
   "execution_count": null,
   "metadata": {},
   "outputs": [],
   "source": [
    "### so from above chart we can see that mizoram has highest active ratio"
   ]
  },
  {
   "cell_type": "markdown",
   "metadata": {},
   "source": [
    "Q2. Which state has highest Death Rate"
   ]
  },
  {
   "cell_type": "code",
   "execution_count": 12,
   "metadata": {},
   "outputs": [],
   "source": [
    "# Groupby state names to find their means for confirmed cases\n",
    "\n",
    "df_group_death = df.groupby([\"State/UTs\"])['Death Ratio (%)'].mean()"
   ]
  },
  {
   "cell_type": "code",
   "execution_count": 14,
   "metadata": {},
   "outputs": [
    {
     "data": {
      "text/plain": [
       "State/UTs\n",
       "Punjab                 2.72\n",
       "Uttarakhand            2.15\n",
       "Maharashtra            2.11\n",
       "Nagaland               2.05\n",
       "Goa                    1.84\n",
       "Delhi                  1.74\n",
       "Andaman and Nicobar    1.71\n",
       "Himachal Pradesh       1.71\n",
       "Meghalaya              1.68\n",
       "Manipur                1.58\n",
       "Jharkhand              1.48\n",
       "Puducherry             1.48\n",
       "Jammu and Kashmir      1.36\n",
       "Chhattisgarh           1.35\n",
       "Tamil Nadu             1.33\n",
       "Name: Death Ratio (%), dtype: float64"
      ]
     },
     "execution_count": 14,
     "metadata": {},
     "output_type": "execute_result"
    }
   ],
   "source": [
    "df_group_death = df_group_death.sort_values(ascending = False)[0:15]\n",
    "df_group_death"
   ]
  },
  {
   "cell_type": "code",
   "execution_count": 15,
   "metadata": {},
   "outputs": [
    {
     "data": {
      "text/plain": [
       "Index(['Punjab', 'Uttarakhand', 'Maharashtra', 'Nagaland', 'Goa', 'Delhi',\n",
       "       'Andaman and Nicobar', 'Himachal Pradesh', 'Meghalaya', 'Manipur',\n",
       "       'Jharkhand', 'Puducherry', 'Jammu and Kashmir', 'Chhattisgarh',\n",
       "       'Tamil Nadu'],\n",
       "      dtype='object', name='State/UTs')"
      ]
     },
     "execution_count": 15,
     "metadata": {},
     "output_type": "execute_result"
    }
   ],
   "source": [
    "df_group_death.index"
   ]
  },
  {
   "cell_type": "code",
   "execution_count": 16,
   "metadata": {},
   "outputs": [
    {
     "data": {
      "text/plain": [
       "Text(0, 0.5, 'Mean of Death ratio')"
      ]
     },
     "execution_count": 16,
     "metadata": {},
     "output_type": "execute_result"
    },
    {
     "data": {
      "image/png": "[encoded data removed]",
      "text/plain": [
       "<Figure size 1440x720 with 1 Axes>"
      ]
     },
     "metadata": {
      "needs_background": "light"
     },
     "output_type": "display_data"
    }
   ],
   "source": [
    "ax = sns.lineplot(x =df_group_death.index ,y =df_group_death.values)\n",
    "plt.scatter(x=df_group_death.index, y= df_group_death.values, c = 'r')\n",
    "ax.figure.set_figwidth(20)\n",
    "ax.figure.set_figheight(10)\n",
    "ax.set_xlabel(\"'State/UTs\")\n",
    "ax.set_ylabel(\"Mean of Death ratio\")"
   ]
  },
  {
   "cell_type": "markdown",
   "metadata": {},
   "source": [
    "### punjab has highest death ratio"
   ]
  },
  {
   "cell_type": "code",
   "execution_count": null,
   "metadata": {},
   "outputs": [],
   "source": []
  },
  {
   "cell_type": "code",
   "execution_count": null,
   "metadata": {},
   "outputs": [],
   "source": []
  }
 ],
 "metadata": {
  "kernelspec": {
   "display_name": "Python 3",
   "language": "python",
   "name": "python3"
  },
  "language_info": {
   "codemirror_mode": {
    "name": "ipython",
    "version": 3
   },
   "file_extension": ".py",
   "mimetype": "text/x-python",
   "name": "python",
   "nbconvert_exporter": "python",
   "pygments_lexer": "ipython3",
   "version": "3.8.5"
  }
 },
 "nbformat": 4,
 "nbformat_minor": 4
}
